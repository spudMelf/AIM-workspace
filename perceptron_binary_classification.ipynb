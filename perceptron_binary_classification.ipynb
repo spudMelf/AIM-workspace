{
 "cells": [
  {
   "cell_type": "code",
   "execution_count": 58,
   "metadata": {},
   "outputs": [],
   "source": [
    "import numpy as np\n",
    "import pandas as pd\n",
    "import matplotlib.pyplot as plt"
   ]
  },
  {
   "cell_type": "code",
   "execution_count": 2,
   "metadata": {},
   "outputs": [
    {
     "data": {
      "text/html": [
       "<div>\n",
       "<style scoped>\n",
       "    .dataframe tbody tr th:only-of-type {\n",
       "        vertical-align: middle;\n",
       "    }\n",
       "\n",
       "    .dataframe tbody tr th {\n",
       "        vertical-align: top;\n",
       "    }\n",
       "\n",
       "    .dataframe thead th {\n",
       "        text-align: right;\n",
       "    }\n",
       "</style>\n",
       "<table border=\"1\" class=\"dataframe\">\n",
       "  <thead>\n",
       "    <tr style=\"text-align: right;\">\n",
       "      <th></th>\n",
       "      <th>x1</th>\n",
       "      <th>x2</th>\n",
       "      <th>class</th>\n",
       "    </tr>\n",
       "  </thead>\n",
       "  <tbody>\n",
       "    <tr>\n",
       "      <th>0</th>\n",
       "      <td>2.339126</td>\n",
       "      <td>1.584585</td>\n",
       "      <td>1.0</td>\n",
       "    </tr>\n",
       "    <tr>\n",
       "      <th>1</th>\n",
       "      <td>1.557974</td>\n",
       "      <td>-0.570345</td>\n",
       "      <td>1.0</td>\n",
       "    </tr>\n",
       "    <tr>\n",
       "      <th>2</th>\n",
       "      <td>3.782852</td>\n",
       "      <td>4.813774</td>\n",
       "      <td>1.0</td>\n",
       "    </tr>\n",
       "    <tr>\n",
       "      <th>3</th>\n",
       "      <td>4.871110</td>\n",
       "      <td>4.768648</td>\n",
       "      <td>1.0</td>\n",
       "    </tr>\n",
       "    <tr>\n",
       "      <th>4</th>\n",
       "      <td>-0.024954</td>\n",
       "      <td>1.350122</td>\n",
       "      <td>1.0</td>\n",
       "    </tr>\n",
       "  </tbody>\n",
       "</table>\n",
       "</div>"
      ],
      "text/plain": [
       "         x1        x2  class\n",
       "0  2.339126  1.584585    1.0\n",
       "1  1.557974 -0.570345    1.0\n",
       "2  3.782852  4.813774    1.0\n",
       "3  4.871110  4.768648    1.0\n",
       "4 -0.024954  1.350122    1.0"
      ]
     },
     "execution_count": 2,
     "metadata": {},
     "output_type": "execute_result"
    }
   ],
   "source": [
    "df = pd.read_csv(\"Data/perceptron_data.csv\")\n",
    "df.head()"
   ]
  },
  {
   "cell_type": "code",
   "execution_count": 4,
   "metadata": {},
   "outputs": [
    {
     "data": {
      "text/plain": [
       "array([[ 2.33912642,  1.58458486],\n",
       "       [ 1.55797438, -0.57034486],\n",
       "       [ 3.78285229,  4.81377415],\n",
       "       [ 4.87110971,  4.76864808],\n",
       "       [-0.02495416,  1.35012155]])"
      ]
     },
     "execution_count": 4,
     "metadata": {},
     "output_type": "execute_result"
    }
   ],
   "source": [
    "X = np.hstack((np.array(df['x1']).reshape(-1,1), np.array(df['x2']).reshape(-1,1)))\n",
    "X[:5]"
   ]
  },
  {
   "cell_type": "code",
   "execution_count": 5,
   "metadata": {},
   "outputs": [
    {
     "data": {
      "text/plain": [
       "(500, 2)"
      ]
     },
     "execution_count": 5,
     "metadata": {},
     "output_type": "execute_result"
    }
   ],
   "source": [
    "X.shape"
   ]
  },
  {
   "cell_type": "code",
   "execution_count": 6,
   "metadata": {},
   "outputs": [
    {
     "data": {
      "text/plain": [
       "array([[1.],\n",
       "       [1.],\n",
       "       [1.],\n",
       "       [1.],\n",
       "       [1.]])"
      ]
     },
     "execution_count": 6,
     "metadata": {},
     "output_type": "execute_result"
    }
   ],
   "source": [
    "y = np.array(df['class']).reshape(-1,1)\n",
    "y[:5]"
   ]
  },
  {
   "cell_type": "code",
   "execution_count": 60,
   "metadata": {},
   "outputs": [],
   "source": [
    "class Perceptron:\n",
    "    def __init__(self, learning_rate=1e-3, epsilon=1e-2, max_iters=1e5):\n",
    "        self.w = 0\n",
    "        self.b = 1\n",
    "        self.grad_w = 0\n",
    "        self.grad_b = 1\n",
    "        self.lr = learning_rate\n",
    "        self.epsilon = epsilon\n",
    "        self.max_iters = max_iters\n",
    "        self.prevError = np.inf\n",
    "\n",
    "    def fit(self, X, y):\n",
    "        _, num_features = X.shape\n",
    "\n",
    "        self.w = np.random.rand(num_features)\n",
    "        self.grad_w = np.random.rand(num_features)\n",
    "\n",
    "        num_iters = 0\n",
    "        while(num_iters < self.max_iters and np.abs(self.prevError - self.evaluate(X,y)) > self.epsilon):\n",
    "            self.prevError = self.evaluate(X,y)\n",
    "            # calculate gradients\n",
    "            self.grad_w, self.grad_b = self.calc_gradients(X, y)\n",
    "\n",
    "            # update w and b values\n",
    "            self.w = self.w - self.lr * self.grad_w\n",
    "            self.b = self.b - self.lr * self.grad_b\n",
    "\n",
    "            num_iters += 1\n",
    "\n",
    "        print(\"Ran for \", num_iters, \" iterations\")\n",
    "\n",
    "    def calc_gradients(self, X, y):\n",
    "        new_grad_w = 0\n",
    "        new_grad_b = 0\n",
    "        for i in range(len(y)):\n",
    "            res = (np.dot(self.w, X[i]) + self.b) * y[i]\n",
    "            if res < 0:\n",
    "                new_grad_w += y[i] * X[i]\n",
    "                new_grad_b += y[i]\n",
    "\n",
    "        new_grad_w *= -1\n",
    "        new_grad_b *= -1\n",
    "\n",
    "        return new_grad_w, new_grad_b\n",
    "\n",
    "    def predict(self, X):\n",
    "        pred_y = [1 if (np.dot(self.w, x) + self.b) > 0 else -1 for x in X]\n",
    "        return pred_y\n",
    "\n",
    "    def evaluate(self, X, y):\n",
    "        loss = sum(max(0, -y[i]*(np.dot(self.w, X[i])+self.b)) for i in range(len(y)))\n",
    "        print(\"loss: \", loss)\n",
    "        return loss\n",
    "        "
   ]
  },
  {
   "cell_type": "code",
   "execution_count": 64,
   "metadata": {},
   "outputs": [
    {
     "name": "stdout",
     "output_type": "stream",
     "text": [
      "loss:  [5129.50557426]\n",
      "loss:  [5129.50557426]\n",
      "loss:  [2867.1930378]\n",
      "loss:  [2867.1930378]\n",
      "loss:  [2241.47412334]\n",
      "loss:  [2241.47412334]\n",
      "loss:  [1617.87605236]\n",
      "loss:  [1617.87605236]\n",
      "loss:  [1007.02866831]\n",
      "loss:  [1007.02866831]\n",
      "loss:  [414.18380352]\n",
      "loss:  [414.18380352]\n",
      "loss:  [3.68542167]\n",
      "loss:  [3.68542167]\n",
      "loss:  0\n",
      "loss:  0\n",
      "loss:  0\n",
      "Ran for  8  iterations\n"
     ]
    }
   ],
   "source": [
    "perceptron_classifier = Perceptron()\n",
    "perceptron_classifier.fit(X, y)"
   ]
  },
  {
   "cell_type": "code",
   "execution_count": 65,
   "metadata": {},
   "outputs": [
    {
     "name": "stdout",
     "output_type": "stream",
     "text": [
      "slope:  [-0.01839366 -0.1961677 ]  intercept:  [1.782]\n"
     ]
    }
   ],
   "source": [
    "print(\"slope: \", perceptron_classifier.w, \" intercept: \", perceptron_classifier.b)"
   ]
  },
  {
   "cell_type": "code",
   "execution_count": 66,
   "metadata": {},
   "outputs": [
    {
     "data": {
      "image/png": "[encoded data removed]",
      "text/plain": [
       "<Figure size 1000x600 with 1 Axes>"
      ]
     },
     "metadata": {},
     "output_type": "display_data"
    }
   ],
   "source": [
    "# Coefficients of the hyperplane\n",
    "coefficients = perceptron_classifier.w\n",
    "\n",
    "# Intercept of the hyperplane\n",
    "intercept = perceptron_classifier.b\n",
    "\n",
    "# Compute slope and intercept of the line\n",
    "slope = -coefficients[0] / coefficients[1]\n",
    "intercept = -intercept / coefficients[1]\n",
    "\n",
    "# Generate data points for plotting the line\n",
    "x_values = np.linspace(X[:, 0].min(), X[:, 0].max(), 10)\n",
    "y_values = slope * x_values + intercept\n",
    "\n",
    "# Plotting the line of the optimal hyperplane\n",
    "plt.figure(figsize=(10, 6))\n",
    "plt.plot(x_values, y_values, color='green', linestyle='-', label='Optimal Hyperplane')\n",
    "plt.scatter(X[:250][:, 0], X[:250][:, 1], color='blue', label='Class 1', marker=\"+\")\n",
    "plt.scatter(X[250:][:, 0], X[250:][:, 1], color='red', label='Class 2', marker=\"_\")\n",
    "plt.xlabel('X1')\n",
    "plt.ylabel('X2')\n",
    "plt.title('Linearly Separable Data')\n",
    "plt.legend()\n",
    "plt.grid(True)\n",
    "plt.show()"
   ]
  },
  {
   "cell_type": "code",
   "execution_count": null,
   "metadata": {},
   "outputs": [],
   "source": []
  }
 ],
 "metadata": {
  "kernelspec": {
   "display_name": "myenv",
   "language": "python",
   "name": "python3"
  },
  "language_info": {
   "codemirror_mode": {
    "name": "ipython",
    "version": 3
   },
   "file_extension": ".py",
   "mimetype": "text/x-python",
   "name": "python",
   "nbconvert_exporter": "python",
   "pygments_lexer": "ipython3",
   "version": "3.10.13"
  }
 },
 "nbformat": 4,
 "nbformat_minor": 2
}
