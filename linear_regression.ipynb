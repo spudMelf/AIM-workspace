{
 "cells": [
  {
   "cell_type": "code",
   "execution_count": 1,
   "id": "13db7686",
   "metadata": {},
   "outputs": [],
   "source": [
    "import numpy as np \n",
    "import pandas as pd\n",
    "import matplotlib as plt"
   ]
  },
  {
   "cell_type": "code",
   "execution_count": 2,
   "metadata": {},
   "outputs": [
    {
     "data": {
      "text/html": [
       "<div>\n",
       "<style scoped>\n",
       "    .dataframe tbody tr th:only-of-type {\n",
       "        vertical-align: middle;\n",
       "    }\n",
       "\n",
       "    .dataframe tbody tr th {\n",
       "        vertical-align: top;\n",
       "    }\n",
       "\n",
       "    .dataframe thead th {\n",
       "        text-align: right;\n",
       "    }\n",
       "</style>\n",
       "<table border=\"1\" class=\"dataframe\">\n",
       "  <thead>\n",
       "    <tr style=\"text-align: right;\">\n",
       "      <th></th>\n",
       "      <th>x</th>\n",
       "      <th>y</th>\n",
       "    </tr>\n",
       "  </thead>\n",
       "  <tbody>\n",
       "    <tr>\n",
       "      <th>0</th>\n",
       "      <td>187.392742</td>\n",
       "      <td>279.965835</td>\n",
       "    </tr>\n",
       "    <tr>\n",
       "      <th>1</th>\n",
       "      <td>471.300033</td>\n",
       "      <td>1074.100766</td>\n",
       "    </tr>\n",
       "    <tr>\n",
       "      <th>2</th>\n",
       "      <td>175.161134</td>\n",
       "      <td>264.385422</td>\n",
       "    </tr>\n",
       "    <tr>\n",
       "      <th>3</th>\n",
       "      <td>130.550752</td>\n",
       "      <td>177.526171</td>\n",
       "    </tr>\n",
       "    <tr>\n",
       "      <th>4</th>\n",
       "      <td>448.644693</td>\n",
       "      <td>914.706451</td>\n",
       "    </tr>\n",
       "  </tbody>\n",
       "</table>\n",
       "</div>"
      ],
      "text/plain": [
       "            x            y\n",
       "0  187.392742   279.965835\n",
       "1  471.300033  1074.100766\n",
       "2  175.161134   264.385422\n",
       "3  130.550752   177.526171\n",
       "4  448.644693   914.706451"
      ]
     },
     "execution_count": 2,
     "metadata": {},
     "output_type": "execute_result"
    }
   ],
   "source": [
    "df = pd.read_csv('Data/2-d_linear_data.csv')\n",
    "df.head()"
   ]
  },
  {
   "cell_type": "code",
   "execution_count": 3,
   "metadata": {},
   "outputs": [
    {
     "name": "stdout",
     "output_type": "stream",
     "text": [
      "(500,) (500,)\n"
     ]
    }
   ],
   "source": [
    "X = np.array(df['x'])\n",
    "y = np.array(df['y'])\n",
    "print(X.shape, y.shape)"
   ]
  },
  {
   "cell_type": "code",
   "execution_count": 132,
   "metadata": {},
   "outputs": [],
   "source": [
    "def RMSE(pred_y, y):\n",
    "    if len(pred_y) != len(y):\n",
    "        raise Exception(\"dimensions of RMSE input do not match\")\n",
    "    \n",
    "    rmse = 0\n",
    "    for i in range(len(pred_y)):\n",
    "        rmse += (pred_y[i] - y[i])**2\n",
    "\n",
    "    rmse /= len(pred_y)\n",
    "    return rmse"
   ]
  },
  {
   "cell_type": "code",
   "execution_count": 175,
   "metadata": {},
   "outputs": [],
   "source": [
    "class LinearRegressionScratch:\n",
    "    def __init__(self, learning_rate=.1, epsilon=.01, max_iters=1000):\n",
    "        self.a = 0\n",
    "        self.b = 0\n",
    "        self.grad_a = 1\n",
    "        self.grad_b = 1\n",
    "        self.lr = learning_rate\n",
    "        self.epsilon = epsilon\n",
    "        self.max_iters = max_iters\n",
    "        self.prevError = np.inf\n",
    "\n",
    "    def fit(self, X, y):\n",
    "        try:\n",
    "            num_instances, num_features = X.shape\n",
    "        except ValueError:\n",
    "            num_instances = X.shape[0]\n",
    "            num_features = 1\n",
    "        except:\n",
    "            raise Exception(\"Could not get input dimensions from X\")\n",
    "        \n",
    "        self.a = np.zeros(num_features)\n",
    "        self.grad_a = np.zeros(num_features)\n",
    "        self.grad_b = np.zeros(1) # neccesary?\n",
    "\n",
    "        num_iters = 0\n",
    "        \n",
    "        while(num_iters < self.max_iters and self.prevError - self.error(X,y) > self.epsilon):\n",
    "            # calculate gradients\n",
    "            #print(self.grad_a, self.a, self.grad_b, self.b)\n",
    "            self.prevError = self.error(X,y)\n",
    "            self.grad_a, self.grad_b = self.update_grad(X, y)\n",
    "            \n",
    "            # update a and b values\n",
    "            self.a = self.a - self.lr * self.grad_a \n",
    "            self.b = self.b - self.lr * self.grad_b \n",
    "            \n",
    "            num_iters += 1\n",
    "            \n",
    "            \n",
    "        print(\"Ran for \", num_iters, \" iterations\")\n",
    "\n",
    "    def update_grad(self, X, y):\n",
    "        new_grad_a = np.zeros_like(self.a)\n",
    "        new_grad_b = 0\n",
    "        for i in range(len(y)):\n",
    "            new_grad_a += 2 * X[i] * ((np.dot(self.a, X[i]) + self.b) - y[i])\n",
    "            new_grad_b += 2 * ((np.dot(self.a, X[i]) + self.b) - y[i])\n",
    "\n",
    "        new_grad_a /= len(y)\n",
    "        new_grad_b /= len(y)\n",
    "\n",
    "        return new_grad_a, new_grad_b\n",
    "    \n",
    "    def predict(self, X):\n",
    "        pred_y = [(np.dot(x, self.a) + self.b)[0] for x in X]\n",
    "        return pred_y\n",
    "\n",
    "    def error(self, X, y):\n",
    "        pred_y = self.predict(X)\n",
    "        #print(np.array(pred_y).shape)\n",
    "        return RMSE(pred_y, y)\n",
    "\n",
    "        \n",
    "            "
   ]
  },
  {
   "cell_type": "code",
   "execution_count": 176,
   "metadata": {},
   "outputs": [
    {
     "name": "stdout",
     "output_type": "stream",
     "text": [
      "Ran for  4232  iterations\n"
     ]
    }
   ],
   "source": [
    "lin_reg_scratch_model = LinearRegressionScratch(learning_rate=1e-8, epsilon=1e-3, max_iters=10000)\n",
    "lin_reg_scratch_model.fit(X, y)"
   ]
  },
  {
   "cell_type": "code",
   "execution_count": 177,
   "metadata": {},
   "outputs": [
    {
     "data": {
      "text/plain": [
       "7035.614856613184"
      ]
     },
     "execution_count": 177,
     "metadata": {},
     "output_type": "execute_result"
    }
   ],
   "source": [
    "lin_reg_scratch_model.error(X,y)"
   ]
  },
  {
   "cell_type": "code",
   "execution_count": 178,
   "metadata": {},
   "outputs": [
    {
     "data": {
      "text/plain": [
       "array([2.01856902])"
      ]
     },
     "execution_count": 178,
     "metadata": {},
     "output_type": "execute_result"
    }
   ],
   "source": [
    "lin_reg_scratch_model.a"
   ]
  },
  {
   "cell_type": "code",
   "execution_count": 179,
   "metadata": {},
   "outputs": [
    {
     "data": {
      "text/plain": [
       "array([0.00603052])"
      ]
     },
     "execution_count": 179,
     "metadata": {},
     "output_type": "execute_result"
    }
   ],
   "source": [
    "lin_reg_scratch_model.b"
   ]
  },
  {
   "cell_type": "code",
   "execution_count": 171,
   "metadata": {},
   "outputs": [
    {
     "data": {
      "text/html": [
       "<style>#sk-container-id-2 {color: black;}#sk-container-id-2 pre{padding: 0;}#sk-container-id-2 div.sk-toggleable {background-color: white;}#sk-container-id-2 label.sk-toggleable__label {cursor: pointer;display: block;width: 100%;margin-bottom: 0;padding: 0.3em;box-sizing: border-box;text-align: center;}#sk-container-id-2 label.sk-toggleable__label-arrow:before {content: \"▸\";float: left;margin-right: 0.25em;color: #696969;}#sk-container-id-2 label.sk-toggleable__label-arrow:hover:before {color: black;}#sk-container-id-2 div.sk-estimator:hover label.sk-toggleable__label-arrow:before {color: black;}#sk-container-id-2 div.sk-toggleable__content {max-height: 0;max-width: 0;overflow: hidden;text-align: left;background-color: #f0f8ff;}#sk-container-id-2 div.sk-toggleable__content pre {margin: 0.2em;color: black;border-radius: 0.25em;background-color: #f0f8ff;}#sk-container-id-2 input.sk-toggleable__control:checked~div.sk-toggleable__content {max-height: 200px;max-width: 100%;overflow: auto;}#sk-container-id-2 input.sk-toggleable__control:checked~label.sk-toggleable__label-arrow:before {content: \"▾\";}#sk-container-id-2 div.sk-estimator input.sk-toggleable__control:checked~label.sk-toggleable__label {background-color: #d4ebff;}#sk-container-id-2 div.sk-label input.sk-toggleable__control:checked~label.sk-toggleable__label {background-color: #d4ebff;}#sk-container-id-2 input.sk-hidden--visually {border: 0;clip: rect(1px 1px 1px 1px);clip: rect(1px, 1px, 1px, 1px);height: 1px;margin: -1px;overflow: hidden;padding: 0;position: absolute;width: 1px;}#sk-container-id-2 div.sk-estimator {font-family: monospace;background-color: #f0f8ff;border: 1px dotted black;border-radius: 0.25em;box-sizing: border-box;margin-bottom: 0.5em;}#sk-container-id-2 div.sk-estimator:hover {background-color: #d4ebff;}#sk-container-id-2 div.sk-parallel-item::after {content: \"\";width: 100%;border-bottom: 1px solid gray;flex-grow: 1;}#sk-container-id-2 div.sk-label:hover label.sk-toggleable__label {background-color: #d4ebff;}#sk-container-id-2 div.sk-serial::before {content: \"\";position: absolute;border-left: 1px solid gray;box-sizing: border-box;top: 0;bottom: 0;left: 50%;z-index: 0;}#sk-container-id-2 div.sk-serial {display: flex;flex-direction: column;align-items: center;background-color: white;padding-right: 0.2em;padding-left: 0.2em;position: relative;}#sk-container-id-2 div.sk-item {position: relative;z-index: 1;}#sk-container-id-2 div.sk-parallel {display: flex;align-items: stretch;justify-content: center;background-color: white;position: relative;}#sk-container-id-2 div.sk-item::before, #sk-container-id-2 div.sk-parallel-item::before {content: \"\";position: absolute;border-left: 1px solid gray;box-sizing: border-box;top: 0;bottom: 0;left: 50%;z-index: -1;}#sk-container-id-2 div.sk-parallel-item {display: flex;flex-direction: column;z-index: 1;position: relative;background-color: white;}#sk-container-id-2 div.sk-parallel-item:first-child::after {align-self: flex-end;width: 50%;}#sk-container-id-2 div.sk-parallel-item:last-child::after {align-self: flex-start;width: 50%;}#sk-container-id-2 div.sk-parallel-item:only-child::after {width: 0;}#sk-container-id-2 div.sk-dashed-wrapped {border: 1px dashed gray;margin: 0 0.4em 0.5em 0.4em;box-sizing: border-box;padding-bottom: 0.4em;background-color: white;}#sk-container-id-2 div.sk-label label {font-family: monospace;font-weight: bold;display: inline-block;line-height: 1.2em;}#sk-container-id-2 div.sk-label-container {text-align: center;}#sk-container-id-2 div.sk-container {/* jupyter's `normalize.less` sets `[hidden] { display: none; }` but bootstrap.min.css set `[hidden] { display: none !important; }` so we also need the `!important` here to be able to override the default hidden behavior on the sphinx rendered scikit-learn.org. See: https://github.com/scikit-learn/scikit-learn/issues/21755 */display: inline-block !important;position: relative;}#sk-container-id-2 div.sk-text-repr-fallback {display: none;}</style><div id=\"sk-container-id-2\" class=\"sk-top-container\"><div class=\"sk-text-repr-fallback\"><pre>LinearRegression()</pre><b>In a Jupyter environment, please rerun this cell to show the HTML representation or trust the notebook. <br />On GitHub, the HTML representation is unable to render, please try loading this page with nbviewer.org.</b></div><div class=\"sk-container\" hidden><div class=\"sk-item\"><div class=\"sk-estimator sk-toggleable\"><input class=\"sk-toggleable__control sk-hidden--visually\" id=\"sk-estimator-id-2\" type=\"checkbox\" checked><label for=\"sk-estimator-id-2\" class=\"sk-toggleable__label sk-toggleable__label-arrow\">LinearRegression</label><div class=\"sk-toggleable__content\"><pre>LinearRegression()</pre></div></div></div></div></div>"
      ],
      "text/plain": [
       "LinearRegression()"
      ]
     },
     "execution_count": 171,
     "metadata": {},
     "output_type": "execute_result"
    }
   ],
   "source": [
    "from sklearn.linear_model import LinearRegression\n",
    "sk_lin_reg = LinearRegression()\n",
    "sk_lin_reg.fit(np.array(X).reshape(-1,1),y)"
   ]
  },
  {
   "cell_type": "code",
   "execution_count": 172,
   "metadata": {},
   "outputs": [
    {
     "data": {
      "text/plain": [
       "2.0292282525184904"
      ]
     },
     "execution_count": 172,
     "metadata": {},
     "output_type": "execute_result"
    }
   ],
   "source": [
    "sk_lin_reg.coef_[0]"
   ]
  },
  {
   "cell_type": "code",
   "execution_count": 173,
   "metadata": {},
   "outputs": [
    {
     "data": {
      "text/plain": [
       "-2.8892974850287487"
      ]
     },
     "execution_count": 173,
     "metadata": {},
     "output_type": "execute_result"
    }
   ],
   "source": [
    "sk_lin_reg.intercept_"
   ]
  },
  {
   "cell_type": "code",
   "execution_count": null,
   "metadata": {},
   "outputs": [],
   "source": [
    "class LinearRegressionScratch:\n",
    "    def __init__(self, learning_rate=1e-8, epsilon=1e-3, max_iters=10000):\n",
    "        self.a = 0\n",
    "        self.b = 0\n",
    "        self.grad_a = 1\n",
    "        self.grad_b = 1\n",
    "        self.lr = learning_rate\n",
    "        self.epsilon = epsilon\n",
    "        self.max_iters = max_iters\n",
    "        self.prevError = np.inf\n",
    "\n",
    "    def fit(self, X, y):\n",
    "        num_iters = 0\n",
    "        while(num_iters < self.max_iters and self.prevError - self.error(X,y) > self.epsilon):\n",
    "            # calculate gradients\n",
    "            self.prevError = self.error(X,y)\n",
    "            self.grad_a, self.grad_b = self.update_grad(X, y)\n",
    "            \n",
    "            # update a and b values\n",
    "                \n",
    "        print(\"Ran for \", num_iters, \" iterations\")\n",
    "\n",
    "    def update_grad(self, X, y):\n",
    "        return new_grad_a, new_grad_b\n",
    "    \n",
    "    # returns an array of predictions given a set of X values to predict on\n",
    "    def predict(self, X):\n",
    "        pred_y = [(np.dot(x, self.a) + self.b)[0] for x in X]\n",
    "        return pred_y\n",
    "\n",
    "    # returns the current error calculated using the root mean squared error (RMSE)\n",
    "    def error(self, X, y):\n",
    "        pred_y = self.predict(X)\n",
    "        #print(np.array(pred_y).shape)\n",
    "        return RMSE(pred_y, y)\n",
    "\n",
    "        \n",
    "            "
   ]
  }
 ],
 "metadata": {
  "kernelspec": {
   "display_name": "Python 3 (ipykernel)",
   "language": "python",
   "name": "python3"
  },
  "language_info": {
   "codemirror_mode": {
    "name": "ipython",
    "version": 3
   },
   "file_extension": ".py",
   "mimetype": "text/x-python",
   "name": "python",
   "nbconvert_exporter": "python",
   "pygments_lexer": "ipython3",
   "version": "3.10.13"
  }
 },
 "nbformat": 4,
 "nbformat_minor": 5
}
