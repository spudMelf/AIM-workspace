{
 "cells": [
  {
   "cell_type": "code",
   "execution_count": 1,
   "metadata": {},
   "outputs": [],
   "source": [
    "import pandas as pd\n",
    "import numpy as np"
   ]
  },
  {
   "cell_type": "code",
   "execution_count": 2,
   "metadata": {},
   "outputs": [
    {
     "data": {
      "text/html": [
       "<div>\n",
       "<style scoped>\n",
       "    .dataframe tbody tr th:only-of-type {\n",
       "        vertical-align: middle;\n",
       "    }\n",
       "\n",
       "    .dataframe tbody tr th {\n",
       "        vertical-align: top;\n",
       "    }\n",
       "\n",
       "    .dataframe thead th {\n",
       "        text-align: right;\n",
       "    }\n",
       "</style>\n",
       "<table border=\"1\" class=\"dataframe\">\n",
       "  <thead>\n",
       "    <tr style=\"text-align: right;\">\n",
       "      <th></th>\n",
       "      <th>x</th>\n",
       "      <th>y</th>\n",
       "    </tr>\n",
       "  </thead>\n",
       "  <tbody>\n",
       "    <tr>\n",
       "      <th>0</th>\n",
       "      <td>187.392742</td>\n",
       "      <td>279.965835</td>\n",
       "    </tr>\n",
       "    <tr>\n",
       "      <th>1</th>\n",
       "      <td>471.300033</td>\n",
       "      <td>1074.100766</td>\n",
       "    </tr>\n",
       "    <tr>\n",
       "      <th>2</th>\n",
       "      <td>175.161134</td>\n",
       "      <td>264.385422</td>\n",
       "    </tr>\n",
       "    <tr>\n",
       "      <th>3</th>\n",
       "      <td>130.550752</td>\n",
       "      <td>177.526171</td>\n",
       "    </tr>\n",
       "    <tr>\n",
       "      <th>4</th>\n",
       "      <td>448.644693</td>\n",
       "      <td>914.706451</td>\n",
       "    </tr>\n",
       "  </tbody>\n",
       "</table>\n",
       "</div>"
      ],
      "text/plain": [
       "            x            y\n",
       "0  187.392742   279.965835\n",
       "1  471.300033  1074.100766\n",
       "2  175.161134   264.385422\n",
       "3  130.550752   177.526171\n",
       "4  448.644693   914.706451"
      ]
     },
     "execution_count": 2,
     "metadata": {},
     "output_type": "execute_result"
    }
   ],
   "source": [
    "df = pd.read_csv('2-d_linear_data.csv')\n",
    "df.head()"
   ]
  },
  {
   "cell_type": "code",
   "execution_count": 3,
   "metadata": {},
   "outputs": [
    {
     "data": {
      "text/plain": [
       "array([187.39274161, 471.30003349, 175.16113425, 130.55075164,\n",
       "       448.64469271])"
      ]
     },
     "execution_count": 3,
     "metadata": {},
     "output_type": "execute_result"
    }
   ],
   "source": [
    "X = np.array(df['x'])\n",
    "X[:5]"
   ]
  },
  {
   "cell_type": "code",
   "execution_count": 4,
   "metadata": {},
   "outputs": [
    {
     "data": {
      "text/plain": [
       "array([ 279.9658353 , 1074.10076595,  264.38542187,  177.52617095,\n",
       "        914.7064511 ])"
      ]
     },
     "execution_count": 4,
     "metadata": {},
     "output_type": "execute_result"
    }
   ],
   "source": [
    "y = np.array(df['y'])\n",
    "y[:5]"
   ]
  },
  {
   "cell_type": "code",
   "execution_count": 5,
   "metadata": {},
   "outputs": [],
   "source": [
    "def RMSE(pred_y, y):\n",
    "    if len(pred_y) != len(y):\n",
    "        raise Exception(\"dimensions of RMSE input do not match\")\n",
    "    \n",
    "    rmse = 0\n",
    "    for i in range(len(pred_y)):\n",
    "        rmse += (pred_y[i] - y[i])**2\n",
    "\n",
    "    rmse /= len(pred_y)\n",
    "    return rmse"
   ]
  },
  {
   "cell_type": "code",
   "execution_count": 1,
   "metadata": {},
   "outputs": [],
   "source": [
    "class LinearRegressionScratch:\n",
    "    def __init__(self, learning_rate=.1, epsilon=.01, max_iters=1000):\n",
    "        self.a = 0\n",
    "        self.b = 0\n",
    "        self.grad_a = 1\n",
    "        self.grad_b = 1\n",
    "        self.lr = learning_rate\n",
    "        self.epsilon = epsilon\n",
    "        self.max_iters = max_iters\n",
    "        self.prevError = np.inf\n",
    "\n",
    "    def fit(self, X, y):\n",
    "        try:\n",
    "            num_instances, num_features = X.shape\n",
    "        except ValueError:\n",
    "            num_instances = X.shape[0]\n",
    "            num_features = 1\n",
    "        except:\n",
    "            raise Exception(\"Could not get input dimensions from X\")\n",
    "        \n",
    "        self.a = np.zeros(num_features)\n",
    "        self.grad_a = np.zeros(num_features)\n",
    "        self.grad_b = np.zeros(1) # neccesary?\n",
    "\n",
    "        num_iters = 0\n",
    "        \n",
    "        while(num_iters < self.max_iters and self.prevError - self.error(X,y) > self.epsilon):\n",
    "            # calculate gradients\n",
    "            #print(self.grad_a, self.a, self.grad_b, self.b)\n",
    "            self.prevError = self.error(X,y)\n",
    "            self.grad_a, self.grad_b = self.update_grad(X, y)\n",
    "            \n",
    "            # update a and b values\n",
    "            self.a = self.a - self.lr * self.grad_a \n",
    "            self.b = self.b - self.lr * self.grad_b \n",
    "            \n",
    "            num_iters += 1\n",
    "            \n",
    "            \n",
    "        print(\"Ran for \", num_iters, \" iterations\")\n",
    "\n",
    "    def update_grad(self, X, y):\n",
    "        new_grad_a = np.zeros_like(self.a)\n",
    "        new_grad_b = 0\n",
    "        for i in range(len(y)):\n",
    "            new_grad_a += 2 * X[i] * ((np.dot(self.a, X[i]) + self.b) - y[i])\n",
    "            new_grad_b += 2 * ((np.dot(self.a, X[i]) + self.b) - y[i])\n",
    "\n",
    "        new_grad_a /= len(y)\n",
    "        new_grad_b /= len(y)\n",
    "\n",
    "        return new_grad_a, new_grad_b\n",
    "    \n",
    "    def predict(self, X):\n",
    "        pred_y = [(np.dot(x, self.a) + self.b)[0] for x in X]\n",
    "        return pred_y\n",
    "\n",
    "    def error(self, X, y):\n",
    "        pred_y = self.predict(X)\n",
    "        #print(np.array(pred_y).shape)\n",
    "        return RMSE(pred_y, y)\n",
    "\n",
    "        \n",
    "            "
   ]
  },
  {
   "cell_type": "code",
   "execution_count": null,
   "metadata": {},
   "outputs": [],
   "source": [
    "class LinearRegressionScratch:\n",
    "    # you should use all of these somewhere\n",
    "    def __init__(self, learning_rate=.1, epsilon=.01, max_iters=1000):\n",
    "        self.a = 0\n",
    "        self.b = 0\n",
    "        self.grad_a = 1\n",
    "        self.grad_b = 1\n",
    "        self.lr = learning_rate\n",
    "        self.epsilon = epsilon\n",
    "        self.max_iters = max_iters\n",
    "        self.prevError = np.inf\n",
    "\n",
    "    # you need to finish this method\n",
    "    # fill in the area where you call \n",
    "    def fit(self, X, y):\n",
    "        num_features = 1\n",
    "\n",
    "        num_iters = 0\n",
    "        \n",
    "        while(num_iters < self.max_iters and self.prevError - self.error(X,y) > self.epsilon):\n",
    "            # calculate gradients\n",
    "            \n",
    "            \n",
    "            # update a and b values\n",
    "            \n",
    "            num_iters += 1\n",
    "            \n",
    "            \n",
    "        print(\"Ran for \", num_iters, \" iterations\")\n",
    "\n",
    "    # you need to finish this method\n",
    "    # it should calculate and return the new calculated gradient values for new_grad_a and new_grad_b\n",
    "    def update_grad(self, X, y):\n",
    "\n",
    "        return new_grad_a, new_grad_b\n",
    "    \n",
    "    # nothing to finsh here\n",
    "    def predict(self, X):\n",
    "        pred_y = [self.a * x + self.b for x in X]\n",
    "        return pred_y\n",
    "    \n",
    "    # nothing to finish here\n",
    "    def error(self, X, y):\n",
    "        pred_y = self.predict(X)\n",
    "        #print(np.array(pred_y).shape)\n",
    "        return RMSE(pred_y, y)\n",
    "\n",
    "        \n",
    "            "
   ]
  }
 ],
 "metadata": {
  "kernelspec": {
   "display_name": "myenv",
   "language": "python",
   "name": "python3"
  },
  "language_info": {
   "codemirror_mode": {
    "name": "ipython",
    "version": 3
   },
   "file_extension": ".py",
   "mimetype": "text/x-python",
   "name": "python",
   "nbconvert_exporter": "python",
   "pygments_lexer": "ipython3",
   "version": "3.10.13"
  }
 },
 "nbformat": 4,
 "nbformat_minor": 2
}
